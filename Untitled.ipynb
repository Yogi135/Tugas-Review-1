{
 "cells": [
  {
   "cell_type": "markdown",
   "metadata": {},
   "source": [
    "# <font color=blue>Review </font>\n",
    "\n",
    "\n",
    "Review Materi Struktur Data\n",
    "***"
   ]
  },
  {
   "cell_type": "markdown",
   "metadata": {},
   "source": [
    "## Review Alpro\n",
    "\n",
    "1. type data\n",
    "    Tipe data adalah suatu media atau memori pada komputer yang digunakan untuk menampung informasi.\n",
    "    jenis-jenis type data :\n",
    "        1). Integer (menyatakan bilangan bulat)\n",
    "        2). String  (menyatakan karakter/kalimat berupa huruf,angka ditandai \"\")\n",
    "        3). Float  (menyatakan bilangan yang ada koma)"
   ]
  },
  {
   "cell_type": "code",
   "execution_count": 4,
   "metadata": {},
   "outputs": [
    {
     "data": {
      "text/plain": [
       "int"
      ]
     },
     "execution_count": 4,
     "metadata": {},
     "output_type": "execute_result"
    }
   ],
   "source": [
    "##contoh\n",
    "angka=1\n",
    "type(angka)"
   ]
  },
  {
   "cell_type": "code",
   "execution_count": 6,
   "metadata": {},
   "outputs": [
    {
     "data": {
      "text/plain": [
       "float"
      ]
     },
     "execution_count": 6,
     "metadata": {},
     "output_type": "execute_result"
    }
   ],
   "source": [
    "##contoh \n",
    "angka2=0.55\n",
    "type(angka2)"
   ]
  },
  {
   "cell_type": "code",
   "execution_count": 7,
   "metadata": {},
   "outputs": [
    {
     "data": {
      "text/plain": [
       "str"
      ]
     },
     "execution_count": 7,
     "metadata": {},
     "output_type": "execute_result"
    }
   ],
   "source": [
    "kata=\"satu\"\n",
    "type(kata)"
   ]
  },
  {
   "cell_type": "markdown",
   "metadata": {},
   "source": [
    "###############################################################################################################################"
   ]
  },
  {
   "cell_type": "markdown",
   "metadata": {},
   "source": [
    "## Algoritma \n",
    "\n",
    "beberapa jenis algoritma dasar, yaitu:\n",
    "\n",
    "- *Sequential*\n",
    "- *Branching*\n",
    "- *Iteration*\n",
    "\n",
    "\n",
    "1.Sequential\n",
    "<br> Algoritma *sequential* merupakan algoritma yang harus dikerjakan berurutan, mulai dari langkah pertama sampai dengan langkah terakhir."
   ]
  },
  {
   "cell_type": "code",
   "execution_count": 9,
   "metadata": {},
   "outputs": [
    {
     "name": "stdout",
     "output_type": "stream",
     "text": [
      "masukan jam = 12\n",
      "720 menit\n"
     ]
    }
   ],
   "source": [
    "jam = int(input(\"masukan jam = \"))\n",
    "menit = jam*60\n",
    "print(menit, \"menit\")"
   ]
  },
  {
   "cell_type": "markdown",
   "metadata": {},
   "source": [
    "2.Brancing (percabangan)\n",
    "<br>\n",
    "Algoritma pada brancing ini hanya ada 2 yaitu true or false (1 or 0).\n",
    "jika suatu pernyataan itu benar maka akan *true* jika tidak memenuhi maka akan *false*\n"
   ]
  },
  {
   "cell_type": "code",
   "execution_count": 14,
   "metadata": {},
   "outputs": [
    {
     "name": "stdout",
     "output_type": "stream",
     "text": [
      "masukan angka 12\n",
      "12 adalah bilangan lebih dari 11\n"
     ]
    }
   ],
   "source": [
    "#mengetahui angka itu kurang dari 11\n",
    "a = int(input(\"masukan angka \"))\n",
    "if a < 11 :\n",
    "    print(a,\"adalah bilangan kurang dari 11\")\n",
    "elif a == 11 :\n",
    "    print (\"angka itu sebelas\")\n",
    "else :\n",
    "    print(a,\"adalah bilangan lebih dari 11\")"
   ]
  },
  {
   "cell_type": "markdown",
   "metadata": {},
   "source": [
    "3. Iteration/looping/perulangan\n",
    "Secara umum, pernyataan pada bahasa pemrograman akan dieksekusi secara berurutan. Pernyataan pertama dalam sebuah fungsi dijalankan pertama, diikuti oleh yang kedua, dan seterusnya. Tetapi akan ada situasi dimana Anda harus menulis banyak kode, dimana kode tersebut sangat banyak. Jika dilakukan secara manual maka Anda hanya akan membuang-buang tenaga dengan menulis beratus-ratus bahkan beribu-ribu kode. Untuk itu Anda perlu menggunakan pengulangan di dalam bahasa pemrograman Python.\n",
    "\n",
    "Di dalam bahasa pemrograman Python pengulangan dibagi menjadi 3 bagian, yaitu :\n",
    "\n",
    "While Loop\n",
    "For Loop\n",
    "Nested Loop"
   ]
  },
  {
   "cell_type": "code",
   "execution_count": 18,
   "metadata": {},
   "outputs": [
    {
     "name": "stdout",
     "output_type": "stream",
     "text": [
      "masukan angka = 12\n",
      "24681012"
     ]
    }
   ],
   "source": [
    "##contoh\n",
    "a = int(input(\"masukan angka = \"))\n",
    "for i in range(1,a+1):\n",
    "    if (i%2)== 0 :\n",
    "        print(i,end=\"\")"
   ]
  },
  {
   "cell_type": "markdown",
   "metadata": {},
   "source": [
    "## List Tuple Dictionary\n",
    "\n",
    "1. List\n",
    "<br>\n",
    "    List adalah tipe data yang paling serbaguna yang tersedia dalam bahasa Python, yang dapat ditulis sebagai daftar nilai yang dipisahkan koma (item) antara tanda kurung siku. Hal penting tentang daftar adalah item dalam list tidak boleh sama jenisnya.\n",
    "\n",
    "<br>\n",
    "2. Tuple\n",
    "<br>\n",
    "    Tupel adalah urutan objek Python yang tidak berubah. Tupel adalah urutan, seperti daftar. Perbedaan utama antara tupel dan daftarnya adalah bahwa tupel tidak dapat diubah tidak seperti List Python. Tupel menggunakan tanda kurung, sedangkan List Python menggunakan tanda kurung siku.\n",
    "\n",
    "    Membuat tuple semudah memasukkan nilai-nilai yang dipisahkan koma. Secara opsional, Anda dapat memasukkan nilai-nilai yang dipisahkan koma ini di antara tanda kurung juga\n",
    "\n",
    "<br>\n",
    "3. Dictionary\n",
    "<br>\n",
    "    Dictionary Python berbeda dengan List ataupun Tuple. Karena setiap urutanya berisi key dan value. Setiap key dipisahkan dari value-nya oleh titik dua (:), item dipisahkan oleh koma, dan semuanya tertutup dalam kurung kurawal. Dictionary kosong tanpa barang ditulis hanya dengan dua kurung kurawal, seperti ini: {}.\n",
    "\n",
    "Nilai kamus bisa berupa tipe apa pun, namun key harus berupa tipe data yang tidak berubah seperti string, angka, atau tupel."
   ]
  },
  {
   "cell_type": "code",
   "execution_count": 21,
   "metadata": {},
   "outputs": [
    {
     "name": "stdout",
     "output_type": "stream",
     "text": [
      "list1[0]:  super\n",
      "list2[1:5]:  [2, 3, 4, 5]\n"
     ]
    }
   ],
   "source": [
    "#contoh list\n",
    "list1 = ['super', 'mantsb', 2002, 2047]\n",
    "list2 = [1, 2, 3, 4, 5, 6, 7 ]\n",
    "\n",
    "print (\"list1[0]: \", list1[0])\n",
    "print (\"list2[1:5]: \", list2[1:5])\n"
   ]
  },
  {
   "cell_type": "code",
   "execution_count": 22,
   "metadata": {},
   "outputs": [
    {
     "name": "stdout",
     "output_type": "stream",
     "text": [
      "(1, 3, 'a', 'x')\n"
     ]
    }
   ],
   "source": [
    "#contoh Tuple\n",
    "tup1 = (1, 3)\n",
    "tup2 = ('a', 'x')\n",
    "\n",
    "\n",
    "tup3 = tup1 + tup2\n",
    "print (tup3)"
   ]
  },
  {
   "cell_type": "code",
   "execution_count": 25,
   "metadata": {},
   "outputs": [
    {
     "name": "stdout",
     "output_type": "stream",
     "text": [
      "dict['umur']:  8\n"
     ]
    }
   ],
   "source": [
    "#contoh dictionary\n",
    "dict = {'nama': 'firasat', 'umur': 97,}\n",
    "dict['umur'] = 8;\n",
    "\n",
    "print (\"dict['umur']: \", dict['umur'])\n"
   ]
  },
  {
   "cell_type": "markdown",
   "metadata": {},
   "source": [
    "###############################################################################################################################"
   ]
  },
  {
   "cell_type": "markdown",
   "metadata": {},
   "source": [
    "## Stack "
   ]
  },
  {
   "cell_type": "markdown",
   "metadata": {},
   "source": [
    "Stack/tumpukan adalah struktur data yang menerapkan konsep LIFO (Last In First Out)\n",
    "Artinya, data yang terakhir ditambahkan ke dalam stack akan berada di posisi terkahir atau atas sehingga saat diambil  maka posisi paling atas yang diambil.\n",
    "contoh yang paling sederhana ialah saat kita mengambil baju, secara default yang paling atas akan kita ambil dan yang paling atas juga yang kita akan taruh tambahan."
   ]
  },
  {
   "cell_type": "markdown",
   "metadata": {},
   "source": [
    "operasi dasar Stack :\n",
    "1.\tStack () : inisialisasi stack yg kosong\n",
    "2.\tPush (data) : penambahan data pada posisi top dari atas\n",
    "3.\tPop() : menghapus data yg terdapat pd atas sendiri\n",
    "4.\tPeek () : cek data yg terakhir\n",
    "5.\tIsEmpty() : apakah stack ada data kosong\n",
    "6.\tSize () : informasi jumlah data"
   ]
  },
  {
   "cell_type": "code",
   "execution_count": 27,
   "metadata": {},
   "outputs": [],
   "source": [
    "#ini operasi dasr pada stack\n",
    "def stack() :\n",
    "    s=[]\n",
    "    return (s)\n",
    "def push(s,data) :\n",
    "    s.append(data)\n",
    "    return (data)\n",
    "def pop(s) :\n",
    "    data=s.pop()\n",
    "    return(data)\n",
    "def peek (s) :\n",
    "    return(s[len(s)-1])\n",
    "def isEmpty (s) :\n",
    "    return (s==[])\n",
    "def size (s) :\n",
    "    return(len(s))\n"
   ]
  },
  {
   "cell_type": "markdown",
   "metadata": {},
   "source": [
    "## Queue/antrian"
   ]
  },
  {
   "cell_type": "markdown",
   "metadata": {},
   "source": [
    "Queue merupakan struktur data yang menerapkan konsep FIFO (First In First Out) dan berbanding terbalik dengan (stack) yang memiliki konsep data LIFO. Sederhanya konsep queue seperti mengantri, yaitu data yang masuk pertama maka data tersebut juga keluar pertama kali"
   ]
  },
  {
   "cell_type": "markdown",
   "metadata": {},
   "source": [
    "#### operasi dasar pada stack"
   ]
  },
  {
   "cell_type": "code",
   "execution_count": 29,
   "metadata": {},
   "outputs": [],
   "source": [
    "def queue():\n",
    "    s = []\n",
    "    return s\n",
    "def enqueue(s,i):\n",
    "    s.insert(0,i)\n",
    "    return s\n",
    "def dequeue(s):\n",
    "    return s.pop()\n",
    "def rear(s):\n",
    "    return (s[0])\n",
    "def front(s):\n",
    "    return (s[len(s)-1])\n",
    "def size(s):\n",
    "    return len(s)\n",
    "def isEmpty(s):\n",
    "    return s==[]"
   ]
  },
  {
   "cell_type": "markdown",
   "metadata": {},
   "source": [
    "### Infix Prefix Postfix "
   ]
  },
  {
   "cell_type": "markdown",
   "metadata": {},
   "source": [
    "1. Infix <br>\n",
    "intinya operator terletak diantara operan\n",
    "contoh = (a+b)x c\n",
    "\n",
    "2. Prefix <br>\n",
    "Intinya operator terletak dikiri operan(didepan operan)\n",
    "contoh = + ab\n",
    "\n",
    "3. postfix <br>\n",
    "intinya operator terletak dikanan operan (dibelakang operan)\n",
    "contoh = ab +"
   ]
  },
  {
   "cell_type": "markdown",
   "metadata": {},
   "source": [
    "Contoh <br>\n",
    "1. prefix <br>\n",
    "    (2+3) x (8+9)\n",
    "    jawab :\n",
    "        x +23 + 89\n",
    " \n",
    "2. Postfix <br>\n",
    "    jawab :\n",
    "        23+89+x\n",
    "    "
   ]
  },
  {
   "cell_type": "code",
   "execution_count": null,
   "metadata": {},
   "outputs": [],
   "source": []
  }
 ],
 "metadata": {
  "kernelspec": {
   "display_name": "Python 3",
   "language": "python",
   "name": "python3"
  },
  "language_info": {
   "codemirror_mode": {
    "name": "ipython",
    "version": 3
   },
   "file_extension": ".py",
   "mimetype": "text/x-python",
   "name": "python",
   "nbconvert_exporter": "python",
   "pygments_lexer": "ipython3",
   "version": "3.7.1"
  }
 },
 "nbformat": 4,
 "nbformat_minor": 2
}
