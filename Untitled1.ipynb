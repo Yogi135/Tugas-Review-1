{
 "cells": [
  {
   "cell_type": "markdown",
   "metadata": {},
   "source": [
    "# Review 2"
   ]
  },
  {
   "cell_type": "markdown",
   "metadata": {},
   "source": [
    "## 1. Deques"
   ]
  },
  {
   "cell_type": "markdown",
   "metadata": {},
   "source": [
    "Deques bisa dikatakan suatu class yang memiliki 2 ujung sekaligus didalam satu antrian.\n",
    "Deques bisa menghapus 2 ujung baik front maupun rear."
   ]
  },
  {
   "cell_type": "markdown",
   "metadata": {},
   "source": [
    "berikut implementasinya"
   ]
  },
  {
   "cell_type": "code",
   "execution_count": 28,
   "metadata": {},
   "outputs": [],
   "source": [
    "def createDeque():\n",
    "    d=[]\n",
    "    return (d)\n",
    "def addFront(d,data):\n",
    "    d.insert(0,data)\n",
    "    return(d)\n",
    "def addRear(d,data):\n",
    "    d.append(data)\n",
    "    return(d)\n",
    "def removeRear(d):\n",
    "    data=d.pop()\n",
    "    return(data)\n",
    "def removeFront(d):\n",
    "    data=d.pop(0)\n",
    "    return(data)\n",
    "def isEmpty(d):\n",
    "    return (d==[])\n",
    "def size(d):\n",
    "    return (len(d))"
   ]
  },
  {
   "cell_type": "markdown",
   "metadata": {},
   "source": [
    "contoh program :"
   ]
  },
  {
   "cell_type": "code",
   "execution_count": 29,
   "metadata": {},
   "outputs": [],
   "source": [
    "data = createDeque()"
   ]
  },
  {
   "cell_type": "code",
   "execution_count": 30,
   "metadata": {},
   "outputs": [
    {
     "data": {
      "text/plain": [
       "['3', '2']"
      ]
     },
     "execution_count": 30,
     "metadata": {},
     "output_type": "execute_result"
    }
   ],
   "source": [
    "addFront(data,'2')\n",
    "addFront(data,'3')"
   ]
  },
  {
   "cell_type": "markdown",
   "metadata": {},
   "source": [
    "## 2. Classes"
   ]
  },
  {
   "cell_type": "markdown",
   "metadata": {},
   "source": [
    "Class adalah cetak biru atau prototipe dari objek dimana kita mendefinisikan atribut dari suatu objek. Atribut ini terdiri dari data member (variabel) dan fungsi (metode).<br>\n",
    "Dengan kata lain kita itu membuat type data baru/ type data buatan sendiri yang tidak ada di aturan.<br>\n",
    "selain itu class tidak hanya berisi properti melainkan berisi fungsi/method"
   ]
  },
  {
   "cell_type": "markdown",
   "metadata": {},
   "source": [
    "        istilah-istilah didalam class :\n",
    "            1. objek = Objek adalah instansiasi atau perwujudan dari sebuah kelas. Bila kelas adalah prototipenya, dan objek\n",
    "                        adalah barang jadinya.\n",
    "            2. method = Metod adalah fungsi yang didefinisikan di dalam suatu kelas\n",
    "            3. instasiasi = Instansiasi adalah pembuatan instance/objek dari suatu kelas"
   ]
  },
  {
   "cell_type": "markdown",
   "metadata": {},
   "source": [
    "#### Method  __ init __\n",
    "\n",
    "Ada nama-nama method spesial pada class Python. __init__ adalah salah satunya, method ini akan\n",
    "dijalankan ketika obyek dibuat. Method ini berguna untuk melakukan inisialisasi. Perhatikan garis bawah\n",
    "dua kali di awal dan di akhir method (double underscore, dunder)."
   ]
  },
  {
   "cell_type": "markdown",
   "metadata": {},
   "source": [
    "#### contoh program"
   ]
  },
  {
   "cell_type": "code",
   "execution_count": 31,
   "metadata": {},
   "outputs": [
    {
     "name": "stdout",
     "output_type": "stream",
     "text": [
      "4 + 6 i\n"
     ]
    }
   ],
   "source": [
    "#classes\n",
    "#constructor\n",
    "\n",
    "class BilanganKompleks:\n",
    "    def __init__ (self,a,b):\n",
    "        self.r =a\n",
    "        self.im=b\n",
    "    def display (self) :\n",
    "        print(self.r,'+',self.im,'i')\n",
    "\n",
    "data=BilanganKompleks(4,6)\n",
    "data.display()\n",
    "\n"
   ]
  },
  {
   "cell_type": "markdown",
   "metadata": {},
   "source": [
    "### contrucstor"
   ]
  },
  {
   "cell_type": "markdown",
   "metadata": {},
   "source": [
    "merupakan method yang otomatis dijalankan ketika suatu obyek dibuat<br>\n",
    "yaitu <i>init<i>"
   ]
  },
  {
   "cell_type": "markdown",
   "metadata": {},
   "source": [
    "### contoh "
   ]
  },
  {
   "cell_type": "code",
   "execution_count": 36,
   "metadata": {},
   "outputs": [
    {
     "name": "stdout",
     "output_type": "stream",
     "text": [
      "4+6i\n",
      "9+7i\n",
      "2+8i\n",
      "13+13i\n"
     ]
    }
   ],
   "source": [
    "class BilanganKompleks:\n",
    "    def __init__ (self,a,b):\n",
    "        self.r =a\n",
    "        self.im=b\n",
    "    def display (self) :\n",
    "        #print(self.r,'+',self.im,'i')\n",
    "        temp=str(self.r) + '+'+ str(self.im)+'i'\n",
    "        return temp\n",
    "\n",
    "    def __str__ (self) :\n",
    "        return str(self.r)+'+'+str(self.im)+'i'\n",
    "\n",
    "    #method menjumlahkan bil kompleks\n",
    "    \n",
    "    def addData(self,bil1,bil2):\n",
    "        self.r=bil1.r+ bil2.r\n",
    "        self.im=bil1.im + bil2.im\n",
    "\n",
    "    def addKompleks(self,obj) :\n",
    "        a=self.r+obj.r\n",
    "        b=self.im+obj.im\n",
    "        return BilangaKompleks(a,b)\n",
    "    \n",
    "    \n",
    "data=BilanganKompleks(4,6)\n",
    "data1=BilanganKompleks(9,7)\n",
    "data2=BilanganKompleks(2,8)\n",
    "print(data.display())\n",
    "print(data1)\n",
    "print(data2)\n",
    "\n",
    "data2.addData(data,data1)\n",
    "print(data2)\n"
   ]
  },
  {
   "cell_type": "raw",
   "metadata": {},
   "source": []
  },
  {
   "cell_type": "markdown",
   "metadata": {},
   "source": [
    "## 3. Linked List"
   ]
  },
  {
   "cell_type": "markdown",
   "metadata": {},
   "source": [
    "merupakan sebuah tempat yang disediakan pada satu area memori tertentu untuk menyimpan data yang dikenal dengan sebutan node atau simpul. Setiap node memiliki pointer yang menunjuk ke simpul berikutnya sehingga terbentuk satu untaian, dengan demikian hanya diperlukan sebuah variabel pointer.<br>\n",
    "Biasanya Linked List pada node terakhir akan menunjuk ke NULL/none, dimana  NULL/none memilik nilai khusus yang artinya tidak menunjuk ke mana-mana."
   ]
  },
  {
   "cell_type": "markdown",
   "metadata": {},
   "source": [
    "### Node"
   ]
  },
  {
   "cell_type": "markdown",
   "metadata": {},
   "source": [
    "<i>Node adalah fondasi di mana berbagai struktur data lain yang terhubung daftar dan tress dapat ditangani dengan python.\n",
    "\n",
    "Pembuatan Nodes\n",
    "Node dibuat dengan mengimplementasikan kelas yang akan menahan pointer bersama dengan elemen data. Dalam contoh di bawah ini, kita membuat kelas bernama daynames untuk menampung nama hari kerja. Pointer nextval diinisialisasi ke nol dan tiga node dan diinisialisasi dengan nilai-nilai seperti yang ditunjukkan."
   ]
  },
  {
   "cell_type": "markdown",
   "metadata": {},
   "source": [
    "implementasi node"
   ]
  },
  {
   "cell_type": "code",
   "execution_count": 37,
   "metadata": {},
   "outputs": [],
   "source": [
    "class Node(object):\n",
    " \n",
    "    def __init__(self, data=None, next_node=None):\n",
    "        self.data = data\n",
    "        self.next_node = next_node\n",
    "   \n",
    "    # Mengambil data dari node\n",
    "    def get_data(self):\n",
    "        return self.data\n",
    "   \n",
    "    # Mengambil node berikutnya\n",
    "    def get_next(self):\n",
    "        return self.next_node\n",
    "   \n",
    "    # Menentukan node berikutnya\n",
    "    def set_next(self, new_next):\n",
    "        self.next_node = new_next"
   ]
  },
  {
   "cell_type": "markdown",
   "metadata": {},
   "source": [
    "#### catatan :"
   ]
  },
  {
   "cell_type": "markdown",
   "metadata": {},
   "source": [
    "getData = berisi data<br>\n",
    "getNext = berisi None"
   ]
  },
  {
   "cell_type": "code",
   "execution_count": null,
   "metadata": {},
   "outputs": [],
   "source": []
  }
 ],
 "metadata": {
  "kernelspec": {
   "display_name": "Python 3",
   "language": "python",
   "name": "python3"
  },
  "language_info": {
   "codemirror_mode": {
    "name": "ipython",
    "version": 3
   },
   "file_extension": ".py",
   "mimetype": "text/x-python",
   "name": "python",
   "nbconvert_exporter": "python",
   "pygments_lexer": "ipython3",
   "version": "3.7.1"
  }
 },
 "nbformat": 4,
 "nbformat_minor": 2
}
